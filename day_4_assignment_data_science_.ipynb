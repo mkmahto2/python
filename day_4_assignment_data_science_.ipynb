{
  "nbformat": 4,
  "nbformat_minor": 0,
  "metadata": {
    "colab": {
      "name": "day 4  assignment data science .ipynb",
      "provenance": [],
      "collapsed_sections": [],
      "include_colab_link": true
    },
    "kernelspec": {
      "name": "python3",
      "display_name": "Python 3"
    }
  },
  "cells": [
    {
      "cell_type": "markdown",
      "metadata": {
        "id": "view-in-github",
        "colab_type": "text"
      },
      "source": [
        "<a href=\"https://colab.research.google.com/github/mkmahto2/python/blob/master/day_4_assignment_data_science_.ipynb\" target=\"_parent\"><img src=\"https://colab.research.google.com/assets/colab-badge.svg\" alt=\"Open In Colab\"/></a>"
      ]
    },
    {
      "cell_type": "markdown",
      "metadata": {
        "id": "BzeqSJMvOpkI"
      },
      "source": [
        "  **Assignment Day 4 | 13th November 2020\n",
        "Name: \n",
        "Mukesh Kumar mahto**\n",
        " \n",
        "**Email:** :\n",
        " mukeshmh001@gmail.com"
      ]
    },
    {
      "cell_type": "markdown",
      "metadata": {
        "id": "szFVbe9LOzSD"
      },
      "source": [
        "**Questions 1:**\n",
        "How to import pandas and check the version?"
      ]
    },
    {
      "cell_type": "code",
      "metadata": {
        "id": "rH4NornHQBSV",
        "outputId": "b92d8826-614b-4fbe-cd49-394783182f15",
        "colab": {
          "base_uri": "https://localhost:8080/",
          "height": 241
        }
      },
      "source": [
        " import pandas as pd\n",
        "print(pd.__version__)\n",
        "data = pd.read_csv(\"student.csv\")"
      ],
      "execution_count": null,
      "outputs": [
        {
          "output_type": "stream",
          "text": [
            "1.1.4\n"
          ],
          "name": "stdout"
        },
        {
          "output_type": "execute_result",
          "data": {
            "text/html": [
              "<div>\n",
              "<style scoped>\n",
              "    .dataframe tbody tr th:only-of-type {\n",
              "        vertical-align: middle;\n",
              "    }\n",
              "\n",
              "    .dataframe tbody tr th {\n",
              "        vertical-align: top;\n",
              "    }\n",
              "\n",
              "    .dataframe thead th {\n",
              "        text-align: right;\n",
              "    }\n",
              "</style>\n",
              "<table border=\"1\" class=\"dataframe\">\n",
              "  <thead>\n",
              "    <tr style=\"text-align: right;\">\n",
              "      <th></th>\n",
              "      <th>Name</th>\n",
              "      <th>OverallGrade</th>\n",
              "      <th>Obedient</th>\n",
              "      <th>ResearchScore</th>\n",
              "      <th>ProjectScore</th>\n",
              "      <th>Recommend</th>\n",
              "    </tr>\n",
              "  </thead>\n",
              "  <tbody>\n",
              "    <tr>\n",
              "      <th>0</th>\n",
              "      <td>Henry</td>\n",
              "      <td>A</td>\n",
              "      <td>Y</td>\n",
              "      <td>90</td>\n",
              "      <td>85</td>\n",
              "      <td>Yes</td>\n",
              "    </tr>\n",
              "    <tr>\n",
              "      <th>1</th>\n",
              "      <td>John</td>\n",
              "      <td>C</td>\n",
              "      <td>N</td>\n",
              "      <td>85</td>\n",
              "      <td>51</td>\n",
              "      <td>Yes</td>\n",
              "    </tr>\n",
              "    <tr>\n",
              "      <th>2</th>\n",
              "      <td>David</td>\n",
              "      <td>F</td>\n",
              "      <td>N</td>\n",
              "      <td>10</td>\n",
              "      <td>17</td>\n",
              "      <td>No</td>\n",
              "    </tr>\n",
              "    <tr>\n",
              "      <th>3</th>\n",
              "      <td>Holmes</td>\n",
              "      <td>B</td>\n",
              "      <td>Y</td>\n",
              "      <td>75</td>\n",
              "      <td>71</td>\n",
              "      <td>No</td>\n",
              "    </tr>\n",
              "    <tr>\n",
              "      <th>4</th>\n",
              "      <td>Marvin</td>\n",
              "      <td>E</td>\n",
              "      <td>N</td>\n",
              "      <td>20</td>\n",
              "      <td>30</td>\n",
              "      <td>No</td>\n",
              "    </tr>\n",
              "  </tbody>\n",
              "</table>\n",
              "</div>"
            ],
            "text/plain": [
              "     Name OverallGrade Obedient  ResearchScore  ProjectScore Recommend\n",
              "0   Henry            A        Y             90            85       Yes\n",
              "1    John            C        N             85            51       Yes\n",
              "2   David            F        N             10            17        No\n",
              "3  Holmes            B        Y             75            71        No\n",
              "4  Marvin            E        N             20            30        No"
            ]
          },
          "metadata": {
            "tags": []
          },
          "execution_count": 15
        }
      ]
    },
    {
      "cell_type": "markdown",
      "metadata": {
        "id": "j50wJx1QO2fK"
      },
      "source": [
        " **Questions 2:**\n",
        "\n",
        "How to create a series from a numpy array?"
      ]
    },
    {
      "cell_type": "code",
      "metadata": {
        "id": "JYJzyOE8Qkln",
        "outputId": "ab37faa9-7c33-474f-92da-6e28a93da7f2",
        "colab": {
          "base_uri": "https://localhost:8080/"
        }
      },
      "source": [
        " \n",
        "# importing Pandas & numpy \n",
        " \n",
        "import pandas as pd \n",
        " \n",
        "import numpy as np \n",
        " \n",
        "  \n",
        "# numpy array \n",
        " \n",
        "data = np.array(['a', 'b', 'c', 'd', 'e']) \n",
        " \n",
        "  \n",
        "# creating series \n",
        " \n",
        "s = pd.Series(data) \n",
        " \n",
        "print(s)"
      ],
      "execution_count": null,
      "outputs": [
        {
          "output_type": "stream",
          "text": [
            "0    a\n",
            "1    b\n",
            "2    c\n",
            "3    d\n",
            "4    e\n",
            "dtype: object\n"
          ],
          "name": "stdout"
        }
      ]
    },
    {
      "cell_type": "markdown",
      "metadata": {
        "id": "CpViiQdVO5fT"
      },
      "source": [
        "**Questions 3:**\n",
        "\n",
        "How to convert the index of a series into a column of a dataframe?"
      ]
    },
    {
      "cell_type": "code",
      "metadata": {
        "id": "Q1akhocIQ_57",
        "outputId": "4aedf2c8-20d3-4b44-c4ab-8e3b3d128ab2",
        "colab": {
          "base_uri": "https://localhost:8080/",
          "height": 210
        }
      },
      "source": [
        " \n",
        "# importing the pandas library as pd \n",
        " \n",
        "import pandas as pd \n",
        " \n",
        "  \n",
        " \n",
        "  \n",
        "# Creating the dataframe df \n",
        " \n",
        "df = pd.DataFrame({'Roll Number': ['20CSE29', '20CSE49', '20CSE36', '20CSE44'], \n",
        " \n",
        "                   'Name': ['Amelia', 'Sam', 'Dean', 'Jessica'], \n",
        " \n",
        "                   'Marks In Percentage': [97, 90, 70, 82], \n",
        " \n",
        "                   'Grade': ['A', 'A', 'C', 'B'], \n",
        " \n",
        "                   'Subject': ['Physics', 'Physics', 'Physics', 'Physics']}) \n",
        " \n",
        "  \n",
        "# Printing the dataframe \n",
        "df"
      ],
      "execution_count": null,
      "outputs": [
        {
          "output_type": "execute_result",
          "data": {
            "text/html": [
              "<div>\n",
              "<style scoped>\n",
              "    .dataframe tbody tr th:only-of-type {\n",
              "        vertical-align: middle;\n",
              "    }\n",
              "\n",
              "    .dataframe tbody tr th {\n",
              "        vertical-align: top;\n",
              "    }\n",
              "\n",
              "    .dataframe thead th {\n",
              "        text-align: right;\n",
              "    }\n",
              "</style>\n",
              "<table border=\"1\" class=\"dataframe\">\n",
              "  <thead>\n",
              "    <tr style=\"text-align: right;\">\n",
              "      <th></th>\n",
              "      <th>Roll Number</th>\n",
              "      <th>Name</th>\n",
              "      <th>Marks In Percentage</th>\n",
              "      <th>Grade</th>\n",
              "      <th>Subject</th>\n",
              "    </tr>\n",
              "  </thead>\n",
              "  <tbody>\n",
              "    <tr>\n",
              "      <th>0</th>\n",
              "      <td>20CSE29</td>\n",
              "      <td>Amelia</td>\n",
              "      <td>97</td>\n",
              "      <td>A</td>\n",
              "      <td>Physics</td>\n",
              "    </tr>\n",
              "    <tr>\n",
              "      <th>1</th>\n",
              "      <td>20CSE49</td>\n",
              "      <td>Sam</td>\n",
              "      <td>90</td>\n",
              "      <td>A</td>\n",
              "      <td>Physics</td>\n",
              "    </tr>\n",
              "    <tr>\n",
              "      <th>2</th>\n",
              "      <td>20CSE36</td>\n",
              "      <td>Dean</td>\n",
              "      <td>70</td>\n",
              "      <td>C</td>\n",
              "      <td>Physics</td>\n",
              "    </tr>\n",
              "    <tr>\n",
              "      <th>3</th>\n",
              "      <td>20CSE44</td>\n",
              "      <td>Jessica</td>\n",
              "      <td>82</td>\n",
              "      <td>B</td>\n",
              "      <td>Physics</td>\n",
              "    </tr>\n",
              "  </tbody>\n",
              "</table>\n",
              "</div>"
            ],
            "text/plain": [
              "  Roll Number     Name  Marks In Percentage Grade  Subject\n",
              "0     20CSE29   Amelia                   97     A  Physics\n",
              "1     20CSE49      Sam                   90     A  Physics\n",
              "2     20CSE36     Dean                   70     C  Physics\n",
              "3     20CSE44  Jessica                   82     B  Physics"
            ]
          },
          "metadata": {
            "tags": []
          },
          "execution_count": 4
        }
      ]
    },
    {
      "cell_type": "markdown",
      "metadata": {
        "id": "GmobbtYsPAgn"
      },
      "source": [
        " **Questions 4:**\n",
        " \n",
        "Write the code to list all the datasets available in seaborn library.\n",
        "Load the 'mpg' dataset\n",
        "Note: mpg dataset will be read from seaborn module in the manner sir has already shown(provided in the\n",
        "materials folder"
      ]
    },
    {
      "cell_type": "code",
      "metadata": {
        "id": "muBmBIqGSii4",
        "outputId": "24b441a4-93a6-45f6-ef80-e3eb9c571b52",
        "colab": {
          "base_uri": "https://localhost:8080/",
          "height": 343
        }
      },
      "source": [
        "import seaborn as srs\n",
        "mv = srs.load_dataset('mpg')\n",
        "mv.head()"
      ],
      "execution_count": null,
      "outputs": [
        {
          "output_type": "execute_result",
          "data": {
            "text/html": [
              "<div>\n",
              "<style scoped>\n",
              "    .dataframe tbody tr th:only-of-type {\n",
              "        vertical-align: middle;\n",
              "    }\n",
              "\n",
              "    .dataframe tbody tr th {\n",
              "        vertical-align: top;\n",
              "    }\n",
              "\n",
              "    .dataframe thead th {\n",
              "        text-align: right;\n",
              "    }\n",
              "</style>\n",
              "<table border=\"1\" class=\"dataframe\">\n",
              "  <thead>\n",
              "    <tr style=\"text-align: right;\">\n",
              "      <th></th>\n",
              "      <th>mpg</th>\n",
              "      <th>cylinders</th>\n",
              "      <th>displacement</th>\n",
              "      <th>horsepower</th>\n",
              "      <th>weight</th>\n",
              "      <th>acceleration</th>\n",
              "      <th>model_year</th>\n",
              "      <th>origin</th>\n",
              "      <th>name</th>\n",
              "    </tr>\n",
              "  </thead>\n",
              "  <tbody>\n",
              "    <tr>\n",
              "      <th>0</th>\n",
              "      <td>18.0</td>\n",
              "      <td>8</td>\n",
              "      <td>307.0</td>\n",
              "      <td>130.0</td>\n",
              "      <td>3504</td>\n",
              "      <td>12.0</td>\n",
              "      <td>70</td>\n",
              "      <td>usa</td>\n",
              "      <td>chevrolet chevelle malibu</td>\n",
              "    </tr>\n",
              "    <tr>\n",
              "      <th>1</th>\n",
              "      <td>15.0</td>\n",
              "      <td>8</td>\n",
              "      <td>350.0</td>\n",
              "      <td>165.0</td>\n",
              "      <td>3693</td>\n",
              "      <td>11.5</td>\n",
              "      <td>70</td>\n",
              "      <td>usa</td>\n",
              "      <td>buick skylark 320</td>\n",
              "    </tr>\n",
              "    <tr>\n",
              "      <th>2</th>\n",
              "      <td>18.0</td>\n",
              "      <td>8</td>\n",
              "      <td>318.0</td>\n",
              "      <td>150.0</td>\n",
              "      <td>3436</td>\n",
              "      <td>11.0</td>\n",
              "      <td>70</td>\n",
              "      <td>usa</td>\n",
              "      <td>plymouth satellite</td>\n",
              "    </tr>\n",
              "    <tr>\n",
              "      <th>3</th>\n",
              "      <td>16.0</td>\n",
              "      <td>8</td>\n",
              "      <td>304.0</td>\n",
              "      <td>150.0</td>\n",
              "      <td>3433</td>\n",
              "      <td>12.0</td>\n",
              "      <td>70</td>\n",
              "      <td>usa</td>\n",
              "      <td>amc rebel sst</td>\n",
              "    </tr>\n",
              "    <tr>\n",
              "      <th>4</th>\n",
              "      <td>17.0</td>\n",
              "      <td>8</td>\n",
              "      <td>302.0</td>\n",
              "      <td>140.0</td>\n",
              "      <td>3449</td>\n",
              "      <td>10.5</td>\n",
              "      <td>70</td>\n",
              "      <td>usa</td>\n",
              "      <td>ford torino</td>\n",
              "    </tr>\n",
              "  </tbody>\n",
              "</table>\n",
              "</div>"
            ],
            "text/plain": [
              "    mpg  cylinders  displacement  ...  model_year  origin                       name\n",
              "0  18.0          8         307.0  ...          70     usa  chevrolet chevelle malibu\n",
              "1  15.0          8         350.0  ...          70     usa          buick skylark 320\n",
              "2  18.0          8         318.0  ...          70     usa         plymouth satellite\n",
              "3  16.0          8         304.0  ...          70     usa              amc rebel sst\n",
              "4  17.0          8         302.0  ...          70     usa                ford torino\n",
              "\n",
              "[5 rows x 9 columns]"
            ]
          },
          "metadata": {
            "tags": []
          },
          "execution_count": 33
        }
      ]
    },
    {
      "cell_type": "code",
      "metadata": {
        "id": "YdZkVSHagDgE",
        "outputId": "fd583fd8-f8e5-4b8f-8e93-48ed9504977f",
        "colab": {
          "base_uri": "https://localhost:8080/"
        }
      },
      "source": [
        " list(mv.columns)"
      ],
      "execution_count": null,
      "outputs": [
        {
          "output_type": "execute_result",
          "data": {
            "text/plain": [
              "['mpg',\n",
              " 'cylinders',\n",
              " 'displacement',\n",
              " 'horsepower',\n",
              " 'weight',\n",
              " 'acceleration',\n",
              " 'model_year',\n",
              " 'origin',\n",
              " 'name']"
            ]
          },
          "metadata": {
            "tags": []
          },
          "execution_count": 20
        }
      ]
    },
    {
      "cell_type": "markdown",
      "metadata": {
        "id": "Xh3kX72oPCEI"
      },
      "source": [
        " **Questions 5:**\n",
        "\n",
        "Which country origin cars are a part of this dataset?"
      ]
    },
    {
      "cell_type": "code",
      "metadata": {
        "id": "IlwtmLsAjLhS",
        "outputId": "a60cefe4-2ce2-4b95-c44e-b813bf11baac",
        "colab": {
          "base_uri": "https://localhost:8080/"
        }
      },
      "source": [
        "mv['origin'].unique()\n",
        "mv['origin'].value_counts()"
      ],
      "execution_count": null,
      "outputs": [
        {
          "output_type": "execute_result",
          "data": {
            "text/plain": [
              "usa       249\n",
              "japan      79\n",
              "europe     70\n",
              "Name: origin, dtype: int64"
            ]
          },
          "metadata": {
            "tags": []
          },
          "execution_count": 32
        }
      ]
    },
    {
      "cell_type": "markdown",
      "metadata": {
        "id": "5ZDoNHUHPGgm"
      },
      "source": [
        " **Questions 6:**\n",
        " \n",
        "Extract the part of the dataframe which contains cars belonging to 'usa'"
      ]
    },
    {
      "cell_type": "code",
      "metadata": {
        "id": "8GDfKIl4cWTe",
        "outputId": "ea3aa06a-a557-4ba2-82f0-32303edcb56f",
        "colab": {
          "base_uri": "https://localhost:8080/"
        }
      },
      "source": [
        " \n",
        " \n",
        "df = DataFrame(mv, columns = ['name', 'model_year','cylinders', 'horsepower', 'displacement', 'weight', 'origin']) \n",
        " \n",
        "  \n",
        " \n",
        " \n",
        "  \n",
        "# Selecting the product of usa Type \n",
        " \n",
        "select_prod = df.loc[df['origin'] == 'usa'] \n",
        " \n",
        "  \n",
        " \n",
        "print(\"\\n\") \n",
        " \n",
        "  \n",
        "# Print selected rows based on the condition \n",
        " \n",
        "print(\"Selecting rows:\\n\") \n",
        " \n",
        "print (select_prod)"
      ],
      "execution_count": null,
      "outputs": [
        {
          "output_type": "stream",
          "text": [
            "\n",
            "\n",
            "Selecting rows:\n",
            "\n",
            "                          name  model_year  ...  weight  origin\n",
            "0    chevrolet chevelle malibu          70  ...    3504     usa\n",
            "1            buick skylark 320          70  ...    3693     usa\n",
            "2           plymouth satellite          70  ...    3436     usa\n",
            "3                amc rebel sst          70  ...    3433     usa\n",
            "4                  ford torino          70  ...    3449     usa\n",
            "..                         ...         ...  ...     ...     ...\n",
            "392           chevrolet camaro          82  ...    2950     usa\n",
            "393            ford mustang gl          82  ...    2790     usa\n",
            "395              dodge rampage          82  ...    2295     usa\n",
            "396                ford ranger          82  ...    2625     usa\n",
            "397                 chevy s-10          82  ...    2720     usa\n",
            "\n",
            "[249 rows x 7 columns]\n"
          ],
          "name": "stdout"
        }
      ]
    }
  ]
}